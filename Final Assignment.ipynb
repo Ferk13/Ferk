# Ferk Display the output
## Learning to use GetHub
print ('New Phyton File')
